{
 "cells": [
  {
   "cell_type": "code",
   "execution_count": 37,
   "metadata": {
    "collapsed": true
   },
   "outputs": [],
   "source": [
    "#Import necessary libraries\n",
    "import numpy as np\n",
    "import pandas as pd\n",
    "import textwrap\n",
    "import math \n",
    "import time"
   ]
  },
  {
   "cell_type": "code",
   "execution_count": 38,
   "metadata": {
    "collapsed": true
   },
   "outputs": [],
   "source": [
    "#Load DataSet\n",
    "start_time = time.time() \n",
    "time_tracker=0\n",
    "x = pd.read_table('HW5_dataset.txt',delim_whitespace = True,header=0)\n",
    "x_training = x[0:140][:]  #Taking first 140 samples into training data\n",
    "x_test = x[140:][:]       #Taking remaining samples into test data\n",
    "x_training = x_training.values\n",
    "x_test = x_test.values\n",
    "x = x.values\n",
    "time_tracker += time.time() - start_time"
   ]
  },
  {
   "cell_type": "code",
   "execution_count": 39,
   "metadata": {},
   "outputs": [
    {
     "name": "stdout",
     "output_type": "stream",
     "text": [
      "100\n",
      "100\n"
     ]
    }
   ],
   "source": [
    "#Separate data\n",
    "start_time = time.time()\n",
    "species_zero_training = x_training[[x_training[:,0]==0]][:]\n",
    "species_one_training  = x_training[[x_training[:,0]==1]][:]\n",
    "species_zero_training = species_zero_training[:,1:]\n",
    "species_one_training = species_one_training[:,1:]\n",
    "\n",
    "species_zero_test = x_test[[x_test[:,0]==0]][:]\n",
    "species_one_test =  x_test[[x_test[:,0]==1]][:]\n",
    "species_zero_test = species_zero_test[:,1:]\n",
    "species_one_test = species_one_test[:,1:]\n",
    "\n",
    "species_zero = x[[x[:,0]==0]][:]\n",
    "species_one = x[[x[:,0]==1]][:]\n",
    "species_zero= species_zero[:,1:]\n",
    "species_one = species_one[:,1:]\n",
    "print(len(species_zero))\n",
    "print((len(species_one)))\n",
    "time_tracker += time.time() - start_time"
   ]
  },
  {
   "cell_type": "code",
   "execution_count": 40,
   "metadata": {
    "collapsed": true
   },
   "outputs": [],
   "source": [
    "start_time = time.time()\n",
    "def mean(data):\n",
    "    mean = np.zeros((1,7))\n",
    "    for i in range(0,len(data)):\n",
    "        mean += data[i][:]\n",
    "    mean = mean/len(data)\n",
    "    return mean\n",
    "def covariance(data,mean):\n",
    "    covariance = np.zeros((7,7))\n",
    "    for i in range(0,len(data)):\n",
    "        a = (data[i,:] - mean)\n",
    "        covariance += (a.T@a) \n",
    "    covariance = (1/len(data))*covariance\n",
    "    return covariance\n",
    "time_tracker += time.time() - start_time"
   ]
  },
  {
   "cell_type": "code",
   "execution_count": 41,
   "metadata": {},
   "outputs": [
    {
     "name": "stdout",
     "output_type": "stream",
     "text": [
      "[[  9.1691358    7.13141204  18.57479167  20.85845679   8.56783179\n",
      "   -0.42507716   0.42507716]\n",
      " [  7.13141204   6.76387153  14.15255208  16.34744213   6.4666956\n",
      "   -0.78153935   0.78153935]\n",
      " [ 18.57479167  14.15255208  38.45012153  42.91434028  17.76977431\n",
      "   -0.62760417   0.62760417]\n",
      " [ 20.85845679  16.34744213  42.91434028  48.30138117  19.79787423\n",
      "   -0.91253858   0.91253858]\n",
      " [  8.56783179   6.4666956   17.76977431  19.79787423   8.32226659\n",
      "   -0.25854552   0.25854552]\n",
      " [ -0.42507716  -0.78153935  -0.62760417  -0.91253858  -0.25854552\n",
      "    0.2498071   -0.2498071 ]\n",
      " [  0.42507716   0.78153935   0.62760417   0.91253858   0.25854552\n",
      "   -0.2498071    0.2498071 ]]\n",
      "[[  9.08346021   5.88378028  20.87943772  23.8567474    9.32790657\n",
      "    0.55536332  -0.55536332]\n",
      " [  5.88378028   4.50396194  13.5232699   15.55649654   6.15652249\n",
      "    0.06842561  -0.06842561]\n",
      " [ 20.87943772  13.5232699   48.49261894  55.29956531  21.56766003\n",
      "    1.3803417   -1.3803417 ]\n",
      " [ 23.8567474   15.55649654  55.29956531  63.22547362  24.65197664\n",
      "    1.50317907  -1.50317907]\n",
      " [  9.32790657   6.15652249  21.56766003  24.65197664   9.74571799\n",
      "    0.54312284  -0.54312284]\n",
      " [  0.55536332   0.06842561   1.3803417    1.50317907   0.54312284\n",
      "    0.24978374  -0.24978374]\n",
      " [ -0.55536332  -0.06842561  -1.3803417   -1.50317907  -0.54312284\n",
      "   -0.24978374   0.24978374]]\n"
     ]
    }
   ],
   "source": [
    "start_time = time.time()\n",
    "#mean_one = mean(species_one)\n",
    "#mean_zero = mean(species_zero)\n",
    "mean_zero_training = mean(species_zero_training)\n",
    "mean_one_training = mean(species_one_training)\n",
    "#mean_zero_test = mean(species_zero_test)\n",
    "#mean_one_test = mean(species_one_test)\n",
    "#covariance_zero = covariance(species_zero,mean_zero)\n",
    "#covariance_one = covariance(species_one,mean_one)\n",
    "covariance_zero_training = covariance(species_zero_training,mean_zero_training)\n",
    "#covariance_zero_test = covariance(species_zero_test,mean_zero_test)\n",
    "covariance_one_training = covariance(species_one_training,mean_one_training)\n",
    "#covariance_one_test = covariance(species_one_test,mean_one_test)\n",
    "#covariance_one = covariance_one + 0.01*np.identity(7)\n",
    "#covariance_one_test = covariance_one_test + 0.0001*np.identity(7)\n",
    "#covariance_zero = covariance_zero +0.01*np.identity(7)\n",
    "print(covariance_zero_training)\n",
    "print(covariance_one_training)\n",
    "time_tracker += time.time() - start_time"
   ]
  },
  {
   "cell_type": "code",
   "execution_count": 42,
   "metadata": {
    "collapsed": true
   },
   "outputs": [],
   "source": [
    "start_time = time.time()\n",
    "#covariance_one_inverse = np.linalg.inv(covariance_one)\n",
    "#covariance_zero_inverse = np.linalg.inv(covariance_zero)\n",
    "covariance_one_training_inverse = np.linalg.inv(covariance_one_training)\n",
    "#covariance_one_test_inverse = np.linalg.inv(covariance_one_test)\n",
    "covariance_zero_training_inverse = np.linalg.inv(covariance_zero_training)\n",
    "#covariance_zero_test_inverse = np.linalg.inv(covariance_zero_test)\n",
    "time_tracker += time.time() - start_time"
   ]
  },
  {
   "cell_type": "code",
   "execution_count": 43,
   "metadata": {
    "collapsed": true
   },
   "outputs": [],
   "source": [
    "#Take prior for whole data\n",
    "start_time = time.time()\n",
    "p0 = len(species_zero)/len(x)\n",
    "p1 = len(species_one)/len(x)\n",
    "\n",
    "#Take prior for training data \n",
    "p0_training = len(species_zero_training)/len(x_training)\n",
    "p1_training = len(species_one_training)/len(x_training)\n",
    "\n",
    "#Take prior for test data\n",
    "p0_test = len(species_zero_test)/len(x_test)\n",
    "p1_test = len(species_one_test)/len(x_test)\n",
    "time_tracker += time.time() - start_time"
   ]
  },
  {
   "cell_type": "code",
   "execution_count": 44,
   "metadata": {},
   "outputs": [
    {
     "name": "stdout",
     "output_type": "stream",
     "text": [
      "Number of class 0 Species: 72\n",
      "Number of class 1 Species: 68\n"
     ]
    }
   ],
   "source": [
    "start_time = time.time()\n",
    "def score_class0_training(x):\n",
    "    return (-1/2)*(((x-mean_zero_training))@covariance_zero_training_inverse@(x-mean_zero_training).T) \n",
    "         -3.5*(math.log(2*math.pi)) - 0.5*math.log(abs(np.linalg.det(covariance_zero_training)))+math.log(p0_training)\n",
    "\n",
    "def score_class1_training(x):\n",
    "    return (-1/2)*(((x-mean_one_training))@covariance_one_training_inverse@(x-mean_one_training).T) \n",
    "        -3.5*(math.log(2*math.pi)) - 0.5*math.log(abs(np.linalg.det(covariance_zero_training)))+math.log(p1_training)\n",
    "zeros_training=[]\n",
    "ones_training=[]\n",
    "for i in range(0,len(x_training)):\n",
    "    score_0_training = score_class0_training(x_training[i][1:])\n",
    "    score_1_training = score_class1_training(x_training[i][1:])\n",
    "    if(score_0_training>score_1_training):\n",
    "        zeros_training.append(i)\n",
    "    else:\n",
    "        ones_training.append(i)\n",
    "print('Number of class 0 Species: ' +str(len(zeros_training)))\n",
    "print('Number of class 1 Species: ' +str(len(ones_training)))        \n",
    "time_tracker += time.time() - start_time  "
   ]
  },
  {
   "cell_type": "code",
   "execution_count": 45,
   "metadata": {},
   "outputs": [
    {
     "name": "stdout",
     "output_type": "stream",
     "text": [
      "Number of class 0 Species: 100\n",
      "Number of class 1 Species: 100\n"
     ]
    }
   ],
   "source": [
    "start_time = time.time()\n",
    "def score_class0(x):\n",
    "    return (-1/2)*(((x-mean_zero))@covariance_zero_inverse@(x-mean_zero).T) -3.5*(math.log(2*math.pi)) - 0.5*math.log(np.linalg.det(covariance_zero))+math.log(p0)\n",
    "\n",
    "def score_class1(x):\n",
    "    return (-1/2)*(((x-mean_one))@covariance_one_inverse@(x-mean_one).T) -3.5*(math.log(2*math.pi)) - 0.5*math.log(np.linalg.det(covariance_zero))+math.log(p1)\n",
    "\n",
    "zeros=[]\n",
    "ones=[]\n",
    "scores0 =[]\n",
    "scores1 =[]\n",
    "for i in range(0,len(x)):\n",
    "    score_0 = score_class0_training(x[i][1:])\n",
    "    score_1 = score_class1_training(x[i][1:])\n",
    "    scores0.append(score_0)\n",
    "    scores1.append(score_1)\n",
    "    if(score_0>score_1):\n",
    "        zeros.append(i)\n",
    "    else:\n",
    "        ones.append(i)\n",
    "print('Number of class 0 Species: ' +str(len(zeros)))\n",
    "print('Number of class 1 Species: ' +str(len(ones)))\n",
    "time_tracker += time.time() - start_time"
   ]
  },
  {
   "cell_type": "code",
   "execution_count": 46,
   "metadata": {},
   "outputs": [
    {
     "name": "stdout",
     "output_type": "stream",
     "text": [
      "Number of class 0 Species: 28\n",
      "Number of class 1 Species: 32\n"
     ]
    }
   ],
   "source": [
    "start_time = time.time()\n",
    "def score_class0_test(x):\n",
    "    return (-1/2)*(((x-mean_zero_test))@covariance_zero_test_inverse@(x-mean_zero_test).T) -3.5*(math.log(2*math.pi)) - 0.5*math.log(np.linalg.det(covariance_zero_test))+math.log(p0_test)\n",
    "\n",
    "def score_class1_test(x):\n",
    "    return (-1/2)*(((x-mean_one_test))@covariance_one_test_inverse@(x-mean_one_test).T) -3.5*(math.log(2*math.pi)) - 0.5*math.log(np.linalg.det(covariance_zero_test))+math.log(p1_test)\n",
    "zeros_test=[]\n",
    "ones_test=[]\n",
    "for i in range(0,len(x_test)):\n",
    "    score_0_test = score_class0_training(x_test[i][1:])\n",
    "    score_1_test = score_class1_training(x_test[i][1:])\n",
    "    if(score_0_test>score_1_test):\n",
    "        zeros_test.append(i)\n",
    "    else:\n",
    "        ones_test.append(i)\n",
    "print('Number of class 0 Species: ' +str(len(zeros_test)))\n",
    "print('Number of class 1 Species: ' +str(len(ones_test)))        \n",
    "time_tracker += time.time() - start_time        "
   ]
  },
  {
   "cell_type": "code",
   "execution_count": 47,
   "metadata": {},
   "outputs": [
    {
     "name": "stdout",
     "output_type": "stream",
     "text": [
      "True Zeros = 100\n",
      "True Ones = 100\n",
      "False Zeros = 0\n",
      "False Ones = 0\n"
     ]
    }
   ],
   "source": [
    "start_time = time.time()\n",
    "true_zeros = 0\n",
    "for i in range(0,len(zeros)):\n",
    "    if x[zeros[i]][0]==0:\n",
    "        true_zeros+=1\n",
    "true_ones = 0\n",
    "for i in range(0,len(ones)):\n",
    "    if x[ones[i]][0]==1:\n",
    "        true_ones+=1\n",
    "false_zeros = len(zeros)-true_zeros\n",
    "false_ones = len(ones) - true_ones\n",
    "\n",
    "print('True Zeros = '+str(true_zeros))\n",
    "print('True Ones = '+str(true_ones))\n",
    "print('False Zeros = '+str(false_zeros))\n",
    "print('False Ones = '+str(false_zeros))\n",
    "time_tracker += time.time() - start_time"
   ]
  },
  {
   "cell_type": "code",
   "execution_count": 48,
   "metadata": {},
   "outputs": [
    {
     "name": "stdout",
     "output_type": "stream",
     "text": [
      "True Zeros = 72\n",
      "True Ones = 68\n",
      "False Zeros = 0\n",
      "False Ones = 0\n"
     ]
    }
   ],
   "source": [
    "start_time = time.time()\n",
    "true_zeros_training = 0\n",
    "for i in range(0,len(zeros_training)):\n",
    "    if x_training[zeros_training[i]][0]==0:\n",
    "        true_zeros_training+=1\n",
    "true_ones_training = 0\n",
    "for i in range(0,len(ones_training)):\n",
    "    if x_training[ones_training[i]][0]==1:\n",
    "        true_ones_training+=1\n",
    "false_zeros_training = len(zeros_training)-true_zeros_training\n",
    "false_ones_training = len(ones_training) - true_ones_training\n",
    "\n",
    "print('True Zeros = '+str(true_zeros_training))\n",
    "print('True Ones = '+str(true_ones_training))\n",
    "print('False Zeros = '+str(false_zeros_training))\n",
    "print('False Ones = '+str(false_zeros_training))\n",
    "time_tracker += time.time() - start_time"
   ]
  },
  {
   "cell_type": "code",
   "execution_count": 51,
   "metadata": {},
   "outputs": [
    {
     "name": "stdout",
     "output_type": "stream",
     "text": [
      "True Zeros = 28\n",
      "True Ones = 32\n",
      "False Zeros = 0\n",
      "False Ones = 0\n"
     ]
    }
   ],
   "source": [
    "start_time = time.time()\n",
    "true_zeros_test = 0\n",
    "for i in range(0,len(zeros_test)):\n",
    "    if x_test[zeros_test[i]][0]==0:\n",
    "        true_zeros_test+=1\n",
    "true_ones_test = 0\n",
    "for i in range(0,len(ones_test)):\n",
    "    if x_test[ones_test[i]][0]==1:\n",
    "        true_ones_test+=1\n",
    "false_zeros_test = len(zeros_test)-true_zeros_test\n",
    "false_ones_test = len(ones_test) - true_ones_test\n",
    "print('True Zeros = '+str(true_zeros_test))\n",
    "print('True Ones = '+str(true_ones_test))\n",
    "print('False Zeros = '+str(false_zeros_test))\n",
    "print('False Ones = '+str(false_zeros_test))\n",
    "time_tracker += time.time() - start_time"
   ]
  },
  {
   "cell_type": "code",
   "execution_count": 50,
   "metadata": {},
   "outputs": [
    {
     "name": "stdout",
     "output_type": "stream",
     "text": [
      "Time taken to finish the classification is 0.08155059814453125 seconds\n"
     ]
    }
   ],
   "source": [
    "print('Time taken to finish the classification is '+ str(time_tracker)+' seconds')"
   ]
  },
  {
   "cell_type": "code",
   "execution_count": 31,
   "metadata": {},
   "outputs": [
    {
     "name": "stdout",
     "output_type": "stream",
     "text": [
      "[[-59.57006186]] [[-7.08400667]]\n",
      "[[-79.72610518]] [[-4.8077006]]\n"
     ]
    }
   ],
   "source": [
    "print(min(scores0), max(scores0))\n",
    "print(min(scores1), max(scores1))\n"
   ]
  },
  {
   "cell_type": "code",
   "execution_count": null,
   "metadata": {
    "collapsed": true
   },
   "outputs": [],
   "source": []
  }
 ],
 "metadata": {
  "kernelspec": {
   "display_name": "Python 3",
   "language": "python",
   "name": "python3"
  },
  "language_info": {
   "codemirror_mode": {
    "name": "ipython",
    "version": 3
   },
   "file_extension": ".py",
   "mimetype": "text/x-python",
   "name": "python",
   "nbconvert_exporter": "python",
   "pygments_lexer": "ipython3",
   "version": "3.6.1"
  }
 },
 "nbformat": 4,
 "nbformat_minor": 2
}
