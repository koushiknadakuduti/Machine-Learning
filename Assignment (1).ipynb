{
 "cells": [
  {
   "cell_type": "code",
   "execution_count": 1,
   "metadata": {
    "collapsed": true
   },
   "outputs": [],
   "source": [
    "import numpy as np\n",
    "import matplotlib\n",
    "import matplotlib.pyplot as plt\n",
    "%matplotlib inline  \n",
    "import math "
   ]
  },
  {
   "cell_type": "code",
   "execution_count": 41,
   "metadata": {},
   "outputs": [
    {
     "data": {
      "image/png": "[encoded data removed]",
      "text/plain": [
       "<matplotlib.figure.Figure at 0x29c25a8a6d8>"
      ]
     },
     "metadata": {},
     "output_type": "display_data"
    }
   ],
   "source": [
    "#First, lets generate some simulated data.  Suppose the true function is a sine curve. \n",
    "u = 1.05\n",
    "l1 =0.1\n",
    "l2 =0.05 \n",
    "N = 10\n",
    "gVar = 0.1\n",
    "step = 0.1\n",
    "x1 = np.arange(l1,u,step) #Training data \n",
    "e = np.random.normal(0,gVar,N)\n",
    "t1 = np.sin(2*math.pi*x1) + e \n",
    "x2 = np.arange(l2,u,step)  #Validation data\n",
    "t2 = np.sin(2*math.pi*x2) + e\n",
    "#print(x1)\n",
    "#print(x2)\n",
    "#print(e)\n",
    "M_list=[]\n",
    "error1_list=[]\n",
    "error2_list=[]\n",
    "\n",
    "#Then we can fit the data using the polynomial curve fitting method we derived\n",
    "for M in range(0,10):\n",
    "    X1 = np.array([x1**m for m in range(M+1)]).T\n",
    "    # print(X)\n",
    "    M_list.append(M)\n",
    "    w = np.linalg.inv(X1.T@X1)@X1.T@t1\n",
    "    error1 = np.linalg.norm(w.T@X1.T - t1.T, ord=2)\n",
    "    erms1 = (2*error1/N)**0.5\n",
    "    #print(w)\n",
    "    #Now let us use the weights in test\n",
    "    if erms1 <= 1:\n",
    "        error1_list.append(erms1)\n",
    "    xrange = np.arange(l2,u,0.1)  #get equally spaced points in the xrange\n",
    "    y = np.sin(2*math.pi*xrange) #compute the true function value\n",
    "    X2 = np.array([x2**m for m in range(w.size)]).T\n",
    "    error2 = np.linalg.norm(w.T@X2.T - t2.T, ord=2)\n",
    "    erms2 = (2*error2/N)**0.5 \n",
    "    error2_list.append(erms2)\n",
    "\n",
    "    #add legend and axes labels\n",
    "plt.ylabel('Erms') #label x and y axes\n",
    "plt.xlabel('M')\n",
    "plt.scatter(M_list,error1_list)\n",
    "plt.scatter(M_list,error2_list)\n",
    "p1=plt.plot(M_list,error1_list)\n",
    "p2=plt.plot(M_list,error2_list)\n",
    "plt.legend((p1[0],p2[0]),('Training Data', 'Test Data'), fontsize=6)\n",
    "plt.rcParams[\"axes.titlesize\"] = 10"
   ]
  },
  {
   "cell_type": "code",
   "execution_count": null,
   "metadata": {
    "collapsed": true
   },
   "outputs": [],
   "source": []
  }
 ],
 "metadata": {
  "kernelspec": {
   "display_name": "Python 3",
   "language": "python",
   "name": "python3"
  },
  "language_info": {
   "codemirror_mode": {
    "name": "ipython",
    "version": 3
   },
   "file_extension": ".py",
   "mimetype": "text/x-python",
   "name": "python",
   "nbconvert_exporter": "python",
   "pygments_lexer": "ipython3",
   "version": "3.6.1"
  }
 },
 "nbformat": 4,
 "nbformat_minor": 2
}
